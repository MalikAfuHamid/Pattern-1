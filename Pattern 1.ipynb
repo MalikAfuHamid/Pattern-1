{
 "cells": [
  {
   "attachments": {
    "image.png": {
     "image/png": "[encoded data removed]"
    }
   },
   "cell_type": "markdown",
   "metadata": {},
   "source": [
    "# Pattern 1\n",
    "![image.png](attachment:image.png)"
   ]
  },
  {
   "cell_type": "code",
   "execution_count": 7,
   "metadata": {},
   "outputs": [],
   "source": [
    "def pattern (n):\n",
    "    \n",
    "    #SSEGITIGA 1\n",
    "    for i in reversed (range(n-1)): #outer loop\n",
    "        for j in range (i+1):       #inner loop\n",
    "            print(\"*\", end = \" \")\n",
    "        print()\n",
    "    \n",
    "    #SSEGITIGA 2\n",
    "    for i in range (1,n-1):         #outer loop\n",
    "        for j in range (i+1):       #inner loop\n",
    "            print(\"*\", end = \" \")\n",
    "        print()"
   ]
  },
  {
   "cell_type": "code",
   "execution_count": 8,
   "metadata": {},
   "outputs": [
    {
     "name": "stdout",
     "output_type": "stream",
     "text": [
      "* * * * * * * * * \n",
      "* * * * * * * * \n",
      "* * * * * * * \n",
      "* * * * * * \n",
      "* * * * * \n",
      "* * * * \n",
      "* * * \n",
      "* * \n",
      "* \n",
      "* * \n",
      "* * * \n",
      "* * * * \n",
      "* * * * * \n",
      "* * * * * * \n",
      "* * * * * * * \n",
      "* * * * * * * * \n",
      "* * * * * * * * * \n"
     ]
    }
   ],
   "source": [
    "pattern(10)"
   ]
  },
  {
   "cell_type": "markdown",
   "metadata": {},
   "source": [
    "## PENJELASAN\n",
    "```json\n",
    "Jadi gini, di sini tuh Lo disuruh untuk membuat pola 2 segitiga siku-siku yang merupakan cerminan satu sama lain. Pada kali ini, Lo menggunakan tanda bintang (*) untuk membentuk setiap polanya.\n",
    "\n",
    "Karena Lo mau bikin 2 segitiga, maka Lo harus membagi fungsi dari looping 'for' nya menjadi 2 bagian.\n",
    "\n",
    "`1. SEGITIGA`\n",
    "1. def pattern (n):\n",
    "Poin 1 ini Lo membuat suatu fungsi dengan variable 'pattern' yang mengakses elemen 'n' untuk menunjukkan posisi pemanggilan pada fungsi.\n",
    "\n",
    "2. for i in reversed(range(n-1)):\n",
    "        for j in range (i+1):\n",
    "          print(\"*\", end = \" \")\n",
    "        print()\n",
    "\n",
    "Kenapa menggunakan looping 'for?'\n",
    "Lo menggunakan looping 'for' karena mau membuat parameter dari loopingnya, yakni 'range(n-1)'\n",
    "Looping 'for' itu sendiri dapat digunakan ketika Lo memiliki parameter dari suatu fungsi.\n",
    "\n",
    "Kenapa menggunakan 'reversed?'\n",
    "Itu karena Lo kan mau membuat \"cerminan\" dari 2 segitiga, maka salah satu segitiga harus merupakan kebalikan dari segitiga yang lainnya, jadi kalo ada segitiga yang dibuat dari kiri, maka yang satunya lagi dari kanan.\n",
    "\n",
    "- for j in range (i+1):\n",
    "         print(\"*\", end = \" \")\n",
    "        print()\n",
    "        \n",
    "Untuk setiap j di dalam range (i+1), maka Lo bisa mengeksekusi asterisk dengan perintah --> print(\"*\", end = \" \")\n",
    "\n",
    "`PEMBUKTIAN` \n",
    "for i in reversed(range(n-1)):\n",
    "        for j in range (i+1):\n",
    "          print(\"*\", end = \" \")\n",
    "        print()\n",
    "\n",
    "Misal, n=10\n",
    "for i in reversed (range (10-1)) --> for i in reversed (range (10-1))\n",
    "                                 --> for i in reversed (range (9))\n",
    "                                 --> maka listnya dari range (9) = 0,1,2,3,4,5,6,7,8\n",
    "                                 --> karena menggunakan 'reversed,' maka menjadi 8,7,6,5,4,3,2,1,0\n",
    "                                 \n",
    "Jadi deret dari 'i' adalah 8,7,6,5,4,3,2,1,0\n",
    "\n",
    "'i=8'\n",
    "for j in range (i+1): --> for j in range (8+1)\n",
    "                      --> for j in range (9)\n",
    "                      --> for j in range (9) = 0,1,2,3,4,5,6,7,8\n",
    "                      \n",
    "Karena perintah selanjutnya adalah ---> print(\"*\", end = \" \"), maka index dari 0-8 pada 'inner loop' j akan diisi asterisk semua yang kemudian akan diberikan spasi kosong sebanyak 1x diakhirdan akan lanjut membuat baris baru di bawahnya ketika sudah mencapai deret akhir -->  end = \" \"\n",
    "\n",
    "\n",
    "'i=7'\n",
    "for j in range (i+1): --> for j in range (7+1)\n",
    "                      --> for j in range (8)\n",
    "                      --> for j in range (8) = 0,1,2,3,4,5,6,7\n",
    "                      \n",
    "Karena perintah selanjutnya adalah ---> print(\"*\", end = \" \"), maka index dari 0-7 pada 'inner loop' j akan diisi asterisk semua yang kemudian akan diberikan spasi kosong sebanyak 1x dan akan lanjut mmembuat baris baru di bawahnya ketika sudah mencapai deret akhir --> end = \" \"\n",
    "\n",
    "'i=6'\n",
    "for j in range (i+1): --> for j in range (6+1)\n",
    "                      --> for j in range (7)\n",
    "                      --> for j in range (7) = 0,1,2,3,4,5,6\n",
    "                      \n",
    "Karena perintah selanjutnya adalah ---> print(\"*\", end = \" \"), maka index dari 0-6 pada 'inner loop' j akan diisi asterisk semua yang kemudian akan diberikan mdierikan kosong sebanyak 1x dan akan lanjut membuat baris baru di bawahnya ketika sudah mencapai deret akhir --> end = \" \n",
    "\n",
    "Dan terus begitu sampai i = 0\n",
    "\n",
    "`2. SEGITIGA `\n",
    "Penjelasan konsepnya sama seperti `SEGITIGA 1` Cuman, bedanya, 'range' pada inner loop adalah '1,n-1' \n",
    "Kenapa begitu? \n",
    "Karena elemen jumlah index yang segitiga pertama ada 9, yang mana itu berarti indexnya dari 0 sampai 8. Terus kalo mau bikin tengah-tengahnya satu kan itu berarti harus ganjil jumlahnya. Misal, angka 5 tengahnya itu kan angka 3. Terus 7, tengahnya itu kan angka 4. Angka 9, tengahnya itu 5, dst.\n",
    "\n",
    "Karena Lo mau bikin 2 segitiga, jadi kalo segitiga pertama itu asterisknya (tanda bintang) ada 9, maka segitiga yang satunya lagi angka genap, dalam hal, angka genap yang mendekati 9 adalah 8. Karena 9+8 = 17 jadinya:\n",
    "-->for i in range (1, n-1) --> Angka 1 ini agar jumlah indexnya nanti jadi 8.\n",
    "-->for i in range (1, 10-1)\n",
    "-->for i in range (1,9) --> 1,2,3,4,5,6,7,8 (ada 8 indexnya)\n",
    "\n",
    "Segitiga ke-2 gak pake 'reveresed' karena segitiga yang pertama sudah menjadi cerminannya. Jadi, untuk yang ke-2 ini gak usah pake 'reversed' lagi.\n",
    "\n",
    "Pokoknya sama aja lah konsepnya kayak yang `Segitiga 1`\n",
    "```"
   ]
  }
 ],
 "metadata": {
  "kernelspec": {
   "display_name": "Python 3 (ipykernel)",
   "language": "python",
   "name": "python3"
  },
  "language_info": {
   "codemirror_mode": {
    "name": "ipython",
    "version": 3
   },
   "file_extension": ".py",
   "mimetype": "text/x-python",
   "name": "python",
   "nbconvert_exporter": "python",
   "pygments_lexer": "ipython3",
   "version": "3.8.12"
  },
  "varInspector": {
   "cols": {
    "lenName": 16,
    "lenType": 16,
    "lenVar": 40
   },
   "kernels_config": {
    "python": {
     "delete_cmd_postfix": "",
     "delete_cmd_prefix": "del ",
     "library": "var_list.py",
     "varRefreshCmd": "print(var_dic_list())"
    },
    "r": {
     "delete_cmd_postfix": ") ",
     "delete_cmd_prefix": "rm(",
     "library": "var_list.r",
     "varRefreshCmd": "cat(var_dic_list()) "
    }
   },
   "types_to_exclude": [
    "module",
    "function",
    "builtin_function_or_method",
    "instance",
    "_Feature"
   ],
   "window_display": false
  }
 },
 "nbformat": 4,
 "nbformat_minor": 4
}
